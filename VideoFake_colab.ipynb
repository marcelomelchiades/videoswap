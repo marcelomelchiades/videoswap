{
  "nbformat": 4,
  "nbformat_minor": 0,
  "metadata": {
    "colab": {
      "provenance": [],
      "gpuType": "T4"
    },
    "kernelspec": {
      "name": "python3",
      "display_name": "Python 3"
    },
    "language_info": {
      "name": "python"
    },
    "accelerator": "GPU"
  },
  "cells": [
    {
      "cell_type": "markdown",
      "source": [
        "##VideoFake | Face Swap / Deep Fake Colab  (English edition without NSFW filter by NeuroModern)\n",
        "Based on [Facefusion](https://github.com/facefusion/), [roop by s0mad3v](https://github.com/s0md3v/roop) and [dream80 colab](https://github.com/dream80/roop_colab/)  \n",
        "\n",
        "Please follow me on the twitter: [twitter.com/neuromodern](https://twitter.com/neuromodern)\n",
        "<a href=\"https://colab.research.google.com/github/neuromodern/VideoFake/blob/main/VideoFake_colab.ipynb\" target=\"_parent\">\n",
        "\n",
        "\n",
        "\n",
        "<img src=\"https://colab.research.google.com/assets/colab-badge.svg\" alt=\"Open In Colab\"/></a>"
      ],
      "metadata": {
        "id": "HelloFuckYou1"
      }
    },
    {
      "cell_type": "code",
      "source": [
        "#!nvidia-smi"
      ],
      "metadata": {
        "id": "HelloFuckYou2"
      },
      "execution_count": null,
      "outputs": []
    },
    {
      "cell_type": "code",
      "execution_count": null,
      "metadata": {
        "id": "HelloFuckYou3"
      },
      "outputs": [],
      "source": [
        "#@title 1. Install repositories\n",
        "!git clone https://github.com/neuromodern/VideoFake.git\n"
      ]
    },
    {
      "cell_type": "code",
      "source": [
        "#@title 2 Create model folder and set dir\n",
        "import shutil\n",
        "import os\n",
        "\n",
        "directory = \"/content/VideoFake/roop/models/\"\n",
        "\n",
        "# Create the directory if it doesn't already exist\n",
        "if not os.path.exists(directory):\n",
        "    os.makedirs(directory)\n",
        "    print(f\"Directory '{directory}' created successfully!\")\n",
        "else:\n",
        "    print(f\"Directory '{directory}' already exists!\")\n",
        "\n",
        "\n",
        "%cd /content/VideoFake/roop"
      ],
      "metadata": {
        "id": "HelloFuckYou4"
      },
      "execution_count": null,
      "outputs": []
    },
    {
      "cell_type": "code",
      "source": [
        "#@title 3. Install requirements\n",
        "\n",
        "!pip install -r requirements.txt\n",
        "\n",
        "#!pip install onnxruntime-gpu==1.15.0"
      ],
      "metadata": {
        "id": "HelloFuckYou5"
      },
      "execution_count": null,
      "outputs": []
    },
    {
      "cell_type": "code",
      "source": [
        "#@title 4. Set up video and face sources\n",
        "source = \"/content/VideoFake/face.jpg\" #@param {type:\"string\"}\n",
        "target = \"/content/VideoFake/input_video.mp4\" #@param {type:\"string\"}\n",
        "output = \"/content/VideoFake/out.mp4\" #@param {type:\"string\"}"
      ],
      "metadata": {
        "id": "HelloFuckYou6"
      },
      "execution_count": null,
      "outputs": []
    },
    {
      "cell_type": "markdown",
      "source": [],
      "metadata": {
        "id": "HelloFuckYou7"
      }
    },
    {
      "cell_type": "code",
      "source": [
        "#@title 5. Run\n",
        "print (source)\n",
        "Device = \"cuda\" #@param [\"cuda\", \"cpu\"]\n",
        "\n",
        "Processor = \"face_swapper face_enhancer\" #@param [\"face_swapper face_enhancer\", \"face_swapper\",\"face_enhancer\"]\n",
        "\n",
        "VideoEncoder = \"libx264\" #@param [\"libx264\", \"libx265\",\"ibvpx-vp9\"]\n",
        "\n",
        "VideoQuality = \"18\" #@param {type:\"string\"}\n",
        "\n",
        "KeepFPS = True #@param {type:\"boolean\"}\n",
        "KeepAudio = True #@param {type:\"boolean\"}\n",
        "KeepFrames = False #@param {type:\"boolean\"}\n",
        "ManyFaces = True #@param {type:\"boolean\"}\n",
        "\n",
        "KeepFPS =\"--keep-fps\" if KeepFPS==True else \"\"\n",
        "KeepAudio =\"--skip-audio\" if KeepAudio==True else \"\"\n",
        "KeepFrames =\"--keep-frames\" if KeepFrames==True else \"\"\n",
        "ManyFaces =\"--many-faces\" if ManyFaces==True else \"\"\n",
        "\n",
        "#new\n",
        "#cmd = f\"run.py --execution-provider {Device} --source {source} -t {target} -o {output} --frame-processor {Processor} --video-encoder {VideoEncoder} --video-quality {VideoQuality} {KeepFPS} {KeepAudio} {KeepFrames} {ManyFaces}\"\n",
        "\n",
        "#old\n",
        "cmd = f\"run.py --execution-provider {Device} --source {source} -t {target} -o {output} --frame-processor {Processor} --output-video-encode {VideoEncoder} --output-video-quality {VideoQuality} {KeepFPS} {KeepAudio} {KeepFrames} {ManyFaces}\"\n",
        "print(\"cmd:\"+cmd)\n",
        "!python $cmd\n"
      ],
      "metadata": {
        "id": "HelloFuckYou8"
      },
      "execution_count": null,
      "outputs": []
    }
  ]
}
